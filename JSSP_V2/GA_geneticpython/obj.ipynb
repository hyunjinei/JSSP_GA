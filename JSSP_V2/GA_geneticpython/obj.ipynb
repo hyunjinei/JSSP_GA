{
 "cells": [
  {
   "cell_type": "markdown",
   "source": [],
   "metadata": {
    "collapsed": false
   },
   "id": "f14de7987a13bb94"
  },
  {
   "cell_type": "code",
   "execution_count": 4,
   "id": "initial_id",
   "metadata": {
    "collapsed": true,
    "ExecuteTime": {
     "end_time": "2024-03-14T08:31:48.761438Z",
     "start_time": "2024-03-14T08:31:48.686969Z"
    }
   },
   "outputs": [
    {
     "name": "stdout",
     "output_type": "stream",
     "text": [
      "[0, 15, 30, 45, 60, 75, 90, 105, 120, 135, 150, 165, 180, 195, 210, 225, 240, 255, 270, 285, 1, 16, 31, 46, 61, 76, 91, 106, 121, 136, 151, 166, 181, 196, 211, 226, 241, 256, 271, 286, 2, 17, 32, 47, 62, 77, 92, 107, 122, 137, 152, 167, 182, 197, 212, 227, 242, 257, 272, 287, 3, 18, 33, 48, 63, 78, 93, 108, 123, 138, 153, 168, 183, 198, 213, 228, 243, 258, 273, 288, 4, 19, 34, 49, 64, 79, 94, 109, 124, 139, 154, 169, 184, 199, 214, 229, 244, 259, 274, 289, 5, 20, 35, 50, 65, 80, 95, 110, 125, 140, 155, 170, 185, 200, 215, 230, 245, 260, 275, 290, 6, 21, 36, 51, 66, 81, 96, 111, 126, 141, 156, 171, 186, 201, 216, 231, 246, 261, 276, 291, 7, 22, 37, 52, 67, 82, 97, 112, 127, 142, 157, 172, 187, 202, 217, 232, 247, 262, 277, 292, 8, 23, 38, 53, 68, 83, 98, 113, 128, 143, 158, 173, 188, 203, 218, 233, 248, 263, 278, 293, 9, 24, 39, 54, 69, 84, 99, 114, 129, 144, 159, 174, 189, 204, 219, 234, 249, 264, 279, 294, 10, 25, 40, 55, 70, 85, 100, 115, 130, 145, 160, 175, 190, 205, 220, 235, 250, 265, 280, 295, 11, 26, 41, 56, 71, 86, 101, 116, 131, 146, 161, 176, 191, 206, 221, 236, 251, 266, 281, 296, 12, 27, 42, 57, 72, 87, 102, 117, 132, 147, 162, 177, 192, 207, 222, 237, 252, 267, 282, 297, 13, 28, 43, 58, 73, 88, 103, 118, 133, 148, 163, 178, 193, 208, 223, 238, 253, 268, 283, 298, 14, 29, 44, 59, 74, 89, 104, 119, 134, 149, 164, 179, 194, 209, 224, 239, 254, 269, 284, 299]\n"
     ]
    },
    {
     "data": {
      "text/plain": "893"
     },
     "execution_count": 4,
     "metadata": {},
     "output_type": "execute_result"
    }
   ],
   "source": [
    "from Data.Adams.abz7.abz7 import Dataset\n",
    "from Config.Run_Config import Run_Config\n",
    "from objects import *\n",
    "dataset = Dataset()\n",
    "\n",
    "op_data = dataset.op_data\n",
    "config = Run_Config(dataset.n_job, dataset.n_machine, dataset.n_op,\n",
    "                    False, False, False,\n",
    "                    False, False, False)\n",
    "\n",
    "# 정렬 함수 정의\n",
    "def custom_sort(num_list):\n",
    "    return sorted(num_list, key=lambda x: (x % 15, x // 15)) # %: 나머지(op), %: 몫(job)\n",
    "\n",
    "# 0부터 99까지의 수 생성\n",
    "numbers = list(range(300))\n",
    "\n",
    "# 패턴대로 정렬\n",
    "sorted_numbers = custom_sort(numbers)\n",
    "\n",
    "# 결과 출력\n",
    "print(sorted_numbers)\n",
    "ind = Individual(config=config, seq=sorted_numbers, op_data=op_data)\n",
    "ind.makespan\n"
   ]
  },
  {
   "cell_type": "code",
   "outputs": [
    {
     "data": {
      "text/plain": "[15.0, 15.0, 0.0, 0.0, 0.0, 15.0]"
     },
     "execution_count": 2,
     "metadata": {},
     "output_type": "execute_result"
    }
   ],
   "source": [
    "ind.score\n"
   ],
   "metadata": {
    "collapsed": false,
    "ExecuteTime": {
     "end_time": "2024-03-14T08:26:44.107752Z",
     "start_time": "2024-03-14T08:26:44.100307Z"
    }
   },
   "id": "8ac56d5eba3856af",
   "execution_count": 2
  },
  {
   "cell_type": "code",
   "outputs": [
    {
     "data": {
      "text/plain": "[[0, 1, 2, 4, 4, 4, 5, 6, 6, 7, 8, 8, 10, 11, 13, 14, 14, 14, 14, 14],\n [1, 1, 2, 2, 3, 3, 3, 4, 5, 5, 8, 8, 8, 9, 10, 11, 11, 11, 12, 14],\n [0, 2, 2, 3, 4, 6, 6, 7, 8, 9, 9, 9, 10, 10, 10, 11, 11, 12, 13, 13],\n [0, 1, 1, 1, 2, 3, 4, 4, 5, 5, 6, 7, 8, 8, 8, 9, 9, 12, 12, 14],\n [1, 3, 3, 4, 4, 5, 5, 5, 7, 9, 10, 10, 10, 11, 12, 13, 13, 13, 14, 14],\n [0, 0, 1, 1, 1, 2, 2, 4, 4, 4, 5, 5, 5, 6, 7, 7, 8, 9, 9, 10],\n [0, 0, 1, 2, 2, 3, 5, 5, 6, 7, 7, 9, 11, 12, 12, 13, 13, 14, 14, 14],\n [2, 2, 3, 3, 4, 4, 4, 4, 4, 7, 8, 9, 9, 9, 9, 10, 12, 13, 14, 14],\n [0, 0, 1, 2, 3, 3, 5, 5, 6, 6, 6, 6, 6, 7, 8, 9, 11, 12, 12, 13],\n [0, 0, 0, 0, 2, 3, 6, 6, 6, 7, 7, 8, 9, 11, 11, 12, 13, 13, 13, 13],\n [0, 1, 1, 5, 6, 7, 7, 7, 8, 9, 9, 10, 10, 10, 11, 11, 12, 13, 14, 14],\n [0, 1, 1, 1, 3, 5, 5, 6, 6, 8, 8, 9, 9, 10, 10, 11, 11, 11, 12, 12],\n [0, 0, 0, 2, 2, 2, 3, 3, 3, 4, 4, 6, 10, 11, 13, 13, 13, 13, 14, 14],\n [0, 0, 1, 2, 3, 4, 5, 5, 7, 7, 7, 8, 10, 11, 12, 12, 12, 12, 13, 14],\n [1, 1, 2, 2, 3, 3, 6, 7, 7, 8, 8, 8, 10, 10, 10, 11, 11, 12, 12, 14]]"
     },
     "execution_count": 3,
     "metadata": {},
     "output_type": "execute_result"
    }
   ],
   "source": [
    "ind.MIO"
   ],
   "metadata": {
    "collapsed": false,
    "ExecuteTime": {
     "end_time": "2024-03-14T08:26:46.846887Z",
     "start_time": "2024-03-14T08:26:46.828663Z"
    }
   },
   "id": "f6433b1c3c754924",
   "execution_count": 3
  },
  {
   "cell_type": "code",
   "outputs": [],
   "source": [
    "dataset = Dataset()\n",
    "\n",
    "op_data = dataset.op_data\n",
    "config = Run_Config(dataset.n_job, dataset.n_machine, dataset.n_op,\n",
    "                    False, False, False,\n",
    "                    False, False, False)\n",
    "\n",
    "# 정렬 함수 정의\n",
    "def custom_sort(num_list):\n",
    "    return sorted(num_list, key=lambda x: (x % 15, x // 15)) # %: 나머지(op), %: 몫(job)\n",
    "\n",
    "# 0부터 99까지의 수 생성\n",
    "numbers = list(range(300))\n",
    "\n",
    "# 패턴대로 정렬\n",
    "sorted_numbers = custom_sort(numbers)\n",
    "ind = Individual(config=config, seq=sorted_numbers, op_data=op_data)\n",
    "ind.makespan"
   ],
   "metadata": {
    "collapsed": false
   },
   "id": "397e5d5f8fbea2de"
  }
 ],
 "metadata": {
  "kernelspec": {
   "display_name": "Python 3",
   "language": "python",
   "name": "python3"
  },
  "language_info": {
   "codemirror_mode": {
    "name": "ipython",
    "version": 2
   },
   "file_extension": ".py",
   "mimetype": "text/x-python",
   "name": "python",
   "nbconvert_exporter": "python",
   "pygments_lexer": "ipython2",
   "version": "2.7.6"
  }
 },
 "nbformat": 4,
 "nbformat_minor": 5
}
